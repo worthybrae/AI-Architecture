{
 "cells": [
  {
   "cell_type": "code",
   "execution_count": 13,
   "id": "9c3fea11",
   "metadata": {},
   "outputs": [],
   "source": [
    "from selenium import webdriver\n",
    "from bs4 import BeautifulSoup\n",
    "from PIL import Image\n",
    "import requests\n",
    "from io import BytesIO\n",
    "import geckodriver_autoinstaller\n",
    "import time"
   ]
  },
  {
   "cell_type": "code",
   "execution_count": 14,
   "id": "4454b30d",
   "metadata": {},
   "outputs": [],
   "source": [
    "\n",
    "base_url = 'https://www.archdaily.com/search/projects/categories/residential-architecture?page=' #add page number at end of url"
   ]
  },
  {
   "cell_type": "code",
   "execution_count": 21,
   "id": "8ec6f3e1",
   "metadata": {},
   "outputs": [
    {
     "ename": "KeyboardInterrupt",
     "evalue": "",
     "output_type": "error",
     "traceback": [
      "\u001b[0;31m---------------------------------------------------------------------------\u001b[0m",
      "\u001b[0;31mKeyboardInterrupt\u001b[0m                         Traceback (most recent call last)",
      "Input \u001b[0;32mIn [21]\u001b[0m, in \u001b[0;36m<cell line: 5>\u001b[0;34m()\u001b[0m\n\u001b[1;32m      6\u001b[0m requested_url \u001b[38;5;241m=\u001b[39m base_url \u001b[38;5;241m+\u001b[39m \u001b[38;5;28mstr\u001b[39m(i)\n\u001b[1;32m      7\u001b[0m driver\u001b[38;5;241m.\u001b[39mget(requested_url)\n\u001b[0;32m----> 8\u001b[0m \u001b[43mtime\u001b[49m\u001b[38;5;241;43m.\u001b[39;49m\u001b[43msleep\u001b[49m\u001b[43m(\u001b[49m\u001b[38;5;241;43m5\u001b[39;49m\u001b[43m)\u001b[49m\n\u001b[1;32m      9\u001b[0m soup \u001b[38;5;241m=\u001b[39m BeautifulSoup(driver\u001b[38;5;241m.\u001b[39mpage_source, \u001b[38;5;124m'\u001b[39m\u001b[38;5;124mhtml.parser\u001b[39m\u001b[38;5;124m'\u001b[39m)\n\u001b[1;32m     10\u001b[0m images \u001b[38;5;241m=\u001b[39m soup\u001b[38;5;241m.\u001b[39mfindAll(\u001b[38;5;124m'\u001b[39m\u001b[38;5;124mimg\u001b[39m\u001b[38;5;124m'\u001b[39m, {\u001b[38;5;124m'\u001b[39m\u001b[38;5;124mclass\u001b[39m\u001b[38;5;124m'\u001b[39m: \u001b[38;5;124m'\u001b[39m\u001b[38;5;124mswiper-lazy-loaded\u001b[39m\u001b[38;5;124m'\u001b[39m})\n",
      "\u001b[0;31mKeyboardInterrupt\u001b[0m: "
     ]
    }
   ],
   "source": [
    "geckodriver_autoinstaller.install() \n",
    "driver = webdriver.Firefox()\n",
    "base_url = 'https://www.archdaily.com/search/projects/categories/residential-architecture?page='\n",
    "counter = 3231\n",
    "for i in range(322,900):\n",
    "    requested_url = base_url + str(i)\n",
    "    driver.get(requested_url)\n",
    "    time.sleep(5)\n",
    "    soup = BeautifulSoup(driver.page_source, 'html.parser')\n",
    "    images = soup.findAll('img', {'class': 'swiper-lazy-loaded'})\n",
    "    \n",
    "    for image in images:\n",
    "        image_link = image['src']\n",
    "        try:\n",
    "            image_value = Image.open(BytesIO(requests.get(image_link).content)).convert('RGB')\n",
    "            width, height = image_value.size\n",
    "            if width >= 512 and height >= 512:\n",
    "                if height % 2 == 0:\n",
    "                    top = (height - 512) / 2 - 1\n",
    "                    bottom = top + 512\n",
    "                else:\n",
    "                    top = (height - 513) / 2 - 1\n",
    "                    bottom = top + 512\n",
    "                if width % 2 == 0:\n",
    "                    left = (width - 512) / 2 - 1\n",
    "                    right = left + 512\n",
    "                else:\n",
    "                    top = (width - 513) / 2 - 1\n",
    "                    bottom = top + 512\n",
    "                cropped_image = image_value.crop((left, top, right, bottom))\n",
    "                saved_image = cropped_image.save('trainingImages/' + str(counter) + '.jpg')\n",
    "                counter += 1\n",
    "        except:\n",
    "            pass\n",
    "            \n",
    "driver.close()"
   ]
  },
  {
   "cell_type": "code",
   "execution_count": null,
   "id": "7d55544a",
   "metadata": {},
   "outputs": [],
   "source": []
  }
 ],
 "metadata": {
  "kernelspec": {
   "display_name": "Python 3 (ipykernel)",
   "language": "python",
   "name": "python3"
  },
  "language_info": {
   "codemirror_mode": {
    "name": "ipython",
    "version": 3
   },
   "file_extension": ".py",
   "mimetype": "text/x-python",
   "name": "python",
   "nbconvert_exporter": "python",
   "pygments_lexer": "ipython3",
   "version": "3.8.10"
  }
 },
 "nbformat": 4,
 "nbformat_minor": 5
}
